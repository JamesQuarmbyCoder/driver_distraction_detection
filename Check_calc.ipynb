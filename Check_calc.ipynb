{
 "cells": [
  {
   "cell_type": "markdown",
   "metadata": {},
   "source": [
    "Chech Precision and Recall for Class weighted"
   ]
  },
  {
   "cell_type": "code",
   "execution_count": 53,
   "metadata": {},
   "outputs": [],
   "source": [
    "c0 = 261/265\n",
    "c1 = 138/139\n",
    "c2 = 97/98\n",
    "c3 = 83/84\n",
    "c4 = 102/103\n",
    "c5 = 94/95\n",
    "c6 = 82/82\n",
    "c7 = 77/77\n",
    "c8 = 73/77\n",
    "c9 = 170/179\n",
    "\n",
    "c0w = 265/1199\n",
    "c1w = 139/1199\n",
    "c2w = 98/1199\n",
    "c3w = 84/1199\n",
    "c4w = 103/1199\n",
    "c5w = 95/1199\n",
    "c6w = 82/1199\n",
    "c7w = 77/1199\n",
    "c8w = 77/1199\n",
    "c9w = 179/1199\n",
    "\n",
    "w0 = c0*c0w\n",
    "w1 = c1*c1w\n",
    "w2 = c2*c2w\n",
    "w3 = c3*c3w\n",
    "w4 = c4*c4w\n",
    "w5 = c5*c5w\n",
    "w6 = c6*c6w\n",
    "w7 = c7*c7w\n",
    "w8 = c8*c8w\n",
    "w9 = c9*c9w"
   ]
  },
  {
   "cell_type": "code",
   "execution_count": 54,
   "metadata": {},
   "outputs": [
    {
     "data": {
      "text/plain": [
       "0.9849056603773589"
      ]
     },
     "execution_count": 54,
     "metadata": {},
     "output_type": "execute_result"
    }
   ],
   "source": [
    "cw = [c0w, c1w, c2w,c3w,c4w,c5w,c6w,c7w,c8w,c9w]\n",
    "w = [w0, w1, w2,w3,w4,w5,w6,w7,w8,w9]\n",
    "sw = [w1, w2,w3,w4,w5,w6,w7,w8,w9]\n",
    "(sum(w) - sum(sw))/c0w\n"
   ]
  },
  {
   "cell_type": "code",
   "execution_count": 55,
   "metadata": {},
   "outputs": [],
   "source": [
    "c0 = 261/274\n",
    "c1 = 138/138\n",
    "c2 = 97/97\n",
    "c3 = 83/83\n",
    "c4 = 102/103\n",
    "c5 = 94/95\n",
    "c6 = 82/85\n",
    "c7 = 77/78\n",
    "c8 = 73/73\n",
    "c9 = 170/174\n",
    "\n",
    "c0w = 274/1199\n",
    "c1w = 138/1199\n",
    "c2w = 97/1199\n",
    "c3w = 83/1199\n",
    "c4w = 103/1199\n",
    "c5w = 95/1199\n",
    "c6w = 85/1199\n",
    "c7w = 78/1199\n",
    "c8w = 73/1199\n",
    "c9w = 174/1199\n",
    "\n",
    "w0 = c0*c0w\n",
    "w1 = c1*c1w\n",
    "w2 = c2*c2w\n",
    "w3 = c3*c3w\n",
    "w4 = c4*c4w\n",
    "w5 = c5*c5w\n",
    "w6 = c6*c6w\n",
    "w7 = c7*c7w\n",
    "w8 = c8*c8w\n",
    "w9 = c9*c9w"
   ]
  },
  {
   "cell_type": "code",
   "execution_count": 56,
   "metadata": {},
   "outputs": [
    {
     "name": "stdout",
     "output_type": "stream",
     "text": [
      "0.9525547445255478 0.9525547445255474 0.9525547445255474\n",
      "0.9861216554657298 0.9816513761467891\n"
     ]
    }
   ],
   "source": [
    "import numpy as np\n",
    "import psutil\n",
    "c = [c0, c1, c2,c3,c4,c5,c6,c7,c8,c9]\n",
    "cw = [c0w, c1w, c2w,c3w,c4w,c5w,c6w,c7w,c8w,c9w]\n",
    "w = [w0, w1, w2,w3,w4,w5,w6,w7,w8,w9]\n",
    "sw = [w1, w2,w3,w4,w5,w6,w7,w8,w9]\n",
    "x = (sum(w) - sum(sw))/c0w\n",
    "y = w0/c0w\n",
    "z = c0\n",
    "print(x,y,z)\n",
    "ave = np.mean(c)\n",
    "print(ave, sum(w))\n",
    "memory_info = psutil.virtual_memory().used"
   ]
  }
 ],
 "metadata": {
  "kernelspec": {
   "display_name": "Python 3",
   "language": "python",
   "name": "python3"
  },
  "language_info": {
   "codemirror_mode": {
    "name": "ipython",
    "version": 3
   },
   "file_extension": ".py",
   "mimetype": "text/x-python",
   "name": "python",
   "nbconvert_exporter": "python",
   "pygments_lexer": "ipython3",
   "version": "3.10.11"
  },
  "orig_nbformat": 4
 },
 "nbformat": 4,
 "nbformat_minor": 2
}
